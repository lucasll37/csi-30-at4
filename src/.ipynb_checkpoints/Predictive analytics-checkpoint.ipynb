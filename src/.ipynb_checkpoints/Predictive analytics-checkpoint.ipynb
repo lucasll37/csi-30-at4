{
 "cells": [
  {
   "cell_type": "markdown",
   "id": "a48c42ea",
   "metadata": {},
   "source": [
    "# [CSI-30] Atividade 4  - Predictive analytics"
   ]
  },
  {
   "cell_type": "markdown",
   "id": "1511694a",
   "metadata": {},
   "source": [
    "##### Importação de Bibliotecas"
   ]
  },
  {
   "cell_type": "code",
   "execution_count": 1,
   "id": "08552492",
   "metadata": {},
   "outputs": [],
   "source": [
    "import pandas as pd\n",
    "import numpy as np\n",
    "import seaborn as sns\n",
    "import matplotlib.pyplot as plt\n",
    "import pymssql\n",
    "import csv\n",
    "import time\n",
    "import math\n",
    "import warnings\n",
    "\n",
    "from sklearn.linear_model import LinearRegression\n",
    "from datetime import datetime, timedelta"
   ]
  },
  {
   "cell_type": "code",
   "execution_count": 2,
   "id": "129661e0",
   "metadata": {},
   "outputs": [],
   "source": [
    "warnings.filterwarnings('ignore')"
   ]
  },
  {
   "cell_type": "code",
   "execution_count": 3,
   "id": "e09e91c5",
   "metadata": {},
   "outputs": [],
   "source": [
    "# pd.set_option('display.max_rows', None)"
   ]
  },
  {
   "cell_type": "markdown",
   "id": "ae3f53d1",
   "metadata": {},
   "source": [
    "## Criação dos SGBD (MSSQL Server 2017)"
   ]
  },
  {
   "cell_type": "code",
   "execution_count": 4,
   "id": "45a6d8bc",
   "metadata": {},
   "outputs": [
    {
     "name": "stdout",
     "output_type": "stream",
     "text": [
      "/bin/bash: /home/lucas/anaconda3/lib/libtinfo.so.6: no version information available (required by /bin/bash)\n",
      "\u001b[1A\u001b[1B\u001b[0G\u001b[?25l[+] Running 1/0\n",
      " \u001b[32m✔\u001b[0m Network csi-30-at4_default        \u001b[32mCreat...\u001b[0m                              \u001b[34m0.1s \u001b[0m\n",
      " ⠋ Container csi-30-at4-sqlserver-1  Creating                              \u001b[34m0.0s \u001b[0m\n",
      "\u001b[?25h\u001b[1A\u001b[1A\u001b[1A\u001b[0G\u001b[?25l[+] Running 1/2\n",
      " \u001b[32m✔\u001b[0m Network csi-30-at4_default        \u001b[32mCreat...\u001b[0m                              \u001b[34m0.1s \u001b[0m\n",
      " ⠙ Container csi-30-at4-sqlserver-1  Creating                              \u001b[34m0.1s \u001b[0m\n",
      "\u001b[?25h\u001b[1A\u001b[1A\u001b[1A\u001b[0G\u001b[?25l\u001b[34m[+] Running 2/2\u001b[0m\n",
      " \u001b[32m✔\u001b[0m Network csi-30-at4_default        \u001b[32mCreat...\u001b[0m                              \u001b[34m0.1s \u001b[0m\n",
      " \u001b[32m✔\u001b[0m Container csi-30-at4-sqlserver-1  \u001b[32mCreated\u001b[0m                               \u001b[34m0.1s \u001b[0m\n",
      "\u001b[?25h\u001b[1A\u001b[1A\u001b[1A\u001b[0G\u001b[?25l\u001b[34m[+] Running 2/2\u001b[0m\n",
      " \u001b[32m✔\u001b[0m Network csi-30-at4_default        \u001b[32mCreat...\u001b[0m                              \u001b[34m0.1s \u001b[0m\n",
      " \u001b[32m✔\u001b[0m Container csi-30-at4-sqlserver-1  \u001b[32mCreated\u001b[0m                               \u001b[34m0.1s \u001b[0m\n",
      "\u001b[?25h\u001b[1A\u001b[1A\u001b[1A\u001b[0G\u001b[?25l\u001b[34m[+] Running 2/2\u001b[0m\n",
      " \u001b[32m✔\u001b[0m Network csi-30-at4_default        \u001b[32mCreat...\u001b[0m                              \u001b[34m0.1s \u001b[0m\n",
      " \u001b[32m✔\u001b[0m Container csi-30-at4-sqlserver-1  \u001b[32mCreated\u001b[0m                               \u001b[34m0.1s \u001b[0m\n",
      "\u001b[?25h\u001b[1A\u001b[1A\u001b[1A\u001b[0G\u001b[?25l\u001b[34m[+] Running 2/2\u001b[0m\n",
      " \u001b[32m✔\u001b[0m Network csi-30-at4_default        \u001b[32mCreat...\u001b[0m                              \u001b[34m0.1s \u001b[0m\n",
      " \u001b[32m✔\u001b[0m Container csi-30-at4-sqlserver-1  \u001b[32mCreated\u001b[0m                               \u001b[34m0.1s \u001b[0m\n",
      "\u001b[?25h\u001b[1A\u001b[1A\u001b[1A\u001b[0G\u001b[?25l\u001b[34m[+] Running 2/2\u001b[0m\n",
      " \u001b[32m✔\u001b[0m Network csi-30-at4_default        \u001b[32mCreat...\u001b[0m                              \u001b[34m0.1s \u001b[0m\n",
      " \u001b[32m✔\u001b[0m Container csi-30-at4-sqlserver-1  \u001b[32mCreated\u001b[0m                               \u001b[34m0.1s \u001b[0m\n",
      "\u001b[?25h\u001b[1A\u001b[1A\u001b[1A\u001b[0G\u001b[?25l\u001b[34m[+] Running 2/2\u001b[0m\n",
      " \u001b[32m✔\u001b[0m Network csi-30-at4_default        \u001b[32mCreat...\u001b[0m                              \u001b[34m0.1s \u001b[0m\n",
      " \u001b[32m✔\u001b[0m Container csi-30-at4-sqlserver-1  \u001b[32mCreated\u001b[0m                               \u001b[34m0.1s \u001b[0m\n",
      "\u001b[?25h\u001b[1A\u001b[1A\u001b[1A\u001b[0G\u001b[?25l\u001b[34m[+] Running 2/2\u001b[0m\n",
      " \u001b[32m✔\u001b[0m Network csi-30-at4_default        \u001b[32mCreat...\u001b[0m                              \u001b[34m0.1s \u001b[0m\n",
      " \u001b[32m✔\u001b[0m Container csi-30-at4-sqlserver-1  \u001b[32mCreated\u001b[0m                               \u001b[34m0.1s \u001b[0m\n",
      "\u001b[?25h\u001b[1A\u001b[1A\u001b[1A\u001b[0G\u001b[?25l\u001b[34m[+] Running 2/2\u001b[0m\n",
      " \u001b[32m✔\u001b[0m Network csi-30-at4_default        \u001b[32mCreat...\u001b[0m                              \u001b[34m0.1s \u001b[0m\n",
      " \u001b[32m✔\u001b[0m Container csi-30-at4-sqlserver-1  \u001b[32mStarted\u001b[0m                               \u001b[34m0.1s \u001b[0m\n",
      "\u001b[?25h"
     ]
    }
   ],
   "source": [
    "!docker-compose -f ../docker-compose.yml up -d"
   ]
  },
  {
   "cell_type": "markdown",
   "id": "c3017fdc",
   "metadata": {},
   "source": [
    "## Conexão com o MSSQL Server 2017\n",
    "\n",
    "#### Aguarde o container inicializar!"
   ]
  },
  {
   "cell_type": "code",
   "execution_count": 5,
   "id": "63f8941d",
   "metadata": {},
   "outputs": [],
   "source": [
    "time.sleep(10)"
   ]
  },
  {
   "cell_type": "code",
   "execution_count": 6,
   "id": "30f8a406",
   "metadata": {},
   "outputs": [],
   "source": [
    "conn = pymssql.connect(host='localhost', user='sa', password='Pent@gon1979', database='master')"
   ]
  },
  {
   "cell_type": "code",
   "execution_count": 7,
   "id": "42ef108b",
   "metadata": {},
   "outputs": [],
   "source": [
    "conn.autocommit(True)"
   ]
  },
  {
   "cell_type": "code",
   "execution_count": 8,
   "id": "c4bebbc4",
   "metadata": {},
   "outputs": [],
   "source": [
    "cursor = conn.cursor()"
   ]
  },
  {
   "cell_type": "markdown",
   "id": "557c0f12",
   "metadata": {},
   "source": [
    "### Modelo Dimensional"
   ]
  },
  {
   "cell_type": "markdown",
   "id": "1db0eece",
   "metadata": {},
   "source": [
    "![schema_dim](../images/schema_dim.png)"
   ]
  },
  {
   "cell_type": "markdown",
   "id": "3e2e4a2d",
   "metadata": {},
   "source": [
    "### Cria da tabela e relacionamentos do Banco de dados Dimensional"
   ]
  },
  {
   "cell_type": "code",
   "execution_count": 9,
   "id": "d85a8d81",
   "metadata": {},
   "outputs": [],
   "source": [
    "cursor.execute(\"CREATE DATABASE FI_DW;\")"
   ]
  },
  {
   "cell_type": "code",
   "execution_count": 10,
   "id": "568f41a7",
   "metadata": {},
   "outputs": [],
   "source": [
    "with open('../sql/ddl_dimensional.sql', 'r') as file:\n",
    "    ddl_create_dimensional = file.read()"
   ]
  },
  {
   "cell_type": "code",
   "execution_count": 11,
   "id": "9c68d02b",
   "metadata": {},
   "outputs": [],
   "source": [
    "commands = [command.strip() for command in ddl_create_dimensional.split('GO') if command.strip()]"
   ]
  },
  {
   "cell_type": "code",
   "execution_count": 12,
   "id": "29a71392",
   "metadata": {},
   "outputs": [],
   "source": [
    "try:\n",
    "    for command in commands:\n",
    "        cursor.execute(command)\n",
    "    \n",
    "except Exception as e:\n",
    "    print(f\"Erro: {str(e)}\")"
   ]
  },
  {
   "cell_type": "markdown",
   "id": "7e37eec0",
   "metadata": {},
   "source": [
    "## Extraction"
   ]
  },
  {
   "cell_type": "markdown",
   "id": "2d638db2",
   "metadata": {},
   "source": [
    "##### Informações Diárias"
   ]
  },
  {
   "cell_type": "code",
   "execution_count": 13,
   "id": "931450c5",
   "metadata": {},
   "outputs": [],
   "source": [
    "path_files_date = [\n",
    "                                                                                    202111, 202112,\n",
    "    202201, 202202, 202203, 202204, 202205, 202206, 202207, 202208, 202209, 202210, 202211, 202212,\n",
    "    202301, 202302, 202303, 202304, 202305, 202306, 202307, 202308, 202309, 202310  \n",
    "]"
   ]
  },
  {
   "cell_type": "code",
   "execution_count": 14,
   "id": "97364073",
   "metadata": {},
   "outputs": [],
   "source": [
    "inf_diario = pd.DataFrame()"
   ]
  },
  {
   "cell_type": "code",
   "execution_count": 15,
   "id": "16ecfd5a",
   "metadata": {},
   "outputs": [],
   "source": [
    "for date in path_files_date:\n",
    "    new_df = f\"../data/inf_diario/inf_diario_fi_{date}.csv\"\n",
    "    inf_diario = pd.concat([inf_diario, pd.read_csv(new_df, sep=';')], axis=0)"
   ]
  },
  {
   "cell_type": "markdown",
   "id": "2b2ee2af",
   "metadata": {},
   "source": [
    "##### Informações cadastrais"
   ]
  },
  {
   "cell_type": "code",
   "execution_count": 16,
   "id": "0176bcfd",
   "metadata": {},
   "outputs": [],
   "source": [
    "cad = pd.read_csv('../data/cad/cad_fi.csv', sep=';', encoding='iso-8859-1', low_memory=False)"
   ]
  },
  {
   "cell_type": "markdown",
   "id": "90466476",
   "metadata": {},
   "source": [
    "## Transformation and Load"
   ]
  },
  {
   "cell_type": "markdown",
   "id": "45e0881d",
   "metadata": {},
   "source": [
    "#### Dimension Controller"
   ]
  },
  {
   "cell_type": "markdown",
   "id": "3c1ecc35",
   "metadata": {},
   "source": [
    "![dim_Controller](../images/dim_Controller.png)"
   ]
  },
  {
   "cell_type": "code",
   "execution_count": 17,
   "id": "7c2f404d",
   "metadata": {},
   "outputs": [],
   "source": [
    "def create_dim_Controller(conn, cursor, cad):\n",
    "    try:\n",
    "        for cnpj in cad['CNPJ_CONTROLADOR'].unique():\n",
    "            temp = cad[cad['CNPJ_CONTROLADOR'] == cnpj][['CONTROLADOR']]\n",
    "            \n",
    "            if len(temp) == 0:\n",
    "                continue\n",
    "\n",
    "            controller = temp.iloc[0, 0]\n",
    "            command = (\"INSERT INTO dim_Controller (NameController, CNPJController) VALUES (%s, %s)\")\n",
    "            cursor.execute(command, (controller, cnpj))    \n",
    "            conn.commit()\n",
    "\n",
    "    except Exception as e:\n",
    "        print(f\"Erro: {str(e)}\")\n",
    "        conn.rollback()"
   ]
  },
  {
   "cell_type": "code",
   "execution_count": 18,
   "id": "6707671b",
   "metadata": {},
   "outputs": [],
   "source": [
    "create_dim_Controller(conn, cursor, cad)"
   ]
  },
  {
   "cell_type": "markdown",
   "id": "2bcab4a7",
   "metadata": {},
   "source": [
    "#### Dimension Auditor"
   ]
  },
  {
   "cell_type": "markdown",
   "id": "eb4f9818",
   "metadata": {},
   "source": [
    "![dim_Auditor](../images/dim_Auditor.png)"
   ]
  },
  {
   "cell_type": "code",
   "execution_count": 19,
   "id": "fd2c783d",
   "metadata": {},
   "outputs": [],
   "source": [
    "def create_dim_Auditor(conn, cursor, cad):\n",
    "    try:\n",
    "        for cnpj in cad['CNPJ_AUDITOR'].unique():\n",
    "            temp = cad[cad['CNPJ_AUDITOR'] == cnpj][['AUDITOR']]\n",
    "            \n",
    "            if len(temp) == 0:\n",
    "                continue\n",
    "\n",
    "            auditor = temp.iloc[0, 0]\n",
    "            command = (\"INSERT INTO dim_Auditor (NameAuditor, CNPJAuditor) VALUES (%s, %s)\")\n",
    "            cursor.execute(command, (auditor, cnpj))    \n",
    "            conn.commit()\n",
    "        \n",
    "    except Exception as e:\n",
    "        print(f\"Erro: {str(e)}\")\n",
    "        conn.rollback()"
   ]
  },
  {
   "cell_type": "code",
   "execution_count": 20,
   "id": "015425bc",
   "metadata": {},
   "outputs": [],
   "source": [
    "create_dim_Auditor(conn, cursor, cad)"
   ]
  },
  {
   "cell_type": "markdown",
   "id": "1e778228",
   "metadata": {},
   "source": [
    "#### Dimension Custodian"
   ]
  },
  {
   "cell_type": "markdown",
   "id": "22ebeff5",
   "metadata": {},
   "source": [
    "![dim_Custodian](../images/dim_Custodian.png)"
   ]
  },
  {
   "cell_type": "code",
   "execution_count": 21,
   "id": "94505dd4",
   "metadata": {},
   "outputs": [],
   "source": [
    "def create_dim_Custodian(conn, cursor, cad):\n",
    "    try:\n",
    "        for cnpj in cad['CNPJ_CUSTODIANTE'].unique():\n",
    "            temp = cad[cad['CNPJ_CUSTODIANTE'] == cnpj][['CUSTODIANTE']]\n",
    "            \n",
    "            if len(temp) == 0:\n",
    "                continue\n",
    "\n",
    "            custodian = temp.iloc[0, 0]\n",
    "            command = (\"INSERT INTO dim_Custodian (NameCustodian, CNPJCustodian) VALUES (%s, %s)\")\n",
    "            cursor.execute(command, (custodian, cnpj))    \n",
    "            conn.commit()\n",
    "            \n",
    "    \n",
    "    except Exception as e:\n",
    "        print(f\"Erro: {str(e)}\")\n",
    "        conn.rollback()"
   ]
  },
  {
   "cell_type": "code",
   "execution_count": 22,
   "id": "85d4e08f",
   "metadata": {},
   "outputs": [],
   "source": [
    "create_dim_Custodian(conn, cursor, cad)"
   ]
  },
  {
   "cell_type": "markdown",
   "id": "9ac61894",
   "metadata": {},
   "source": [
    "#### Dimension Admin"
   ]
  },
  {
   "cell_type": "markdown",
   "id": "cda910ab",
   "metadata": {},
   "source": [
    "![dim_Admin](../images/dim_Admin.png)"
   ]
  },
  {
   "cell_type": "code",
   "execution_count": 23,
   "id": "f79e7219",
   "metadata": {},
   "outputs": [],
   "source": [
    "def create_dim_Admin(conn, cursor, cad):\n",
    "    try:\n",
    "        for cnpj in cad['CNPJ_ADMIN'].unique():\n",
    "            temp = cad[cad['CNPJ_ADMIN'] == cnpj][['ADMIN']]\n",
    "            \n",
    "            if len(temp) == 0:\n",
    "                continue\n",
    "\n",
    "            admin = temp.iloc[0, 0]\n",
    "            command = (\"INSERT INTO dim_Admin (NameAdmin, CNPJAdmin) VALUES (%s, %s)\")            \n",
    "            cursor.execute(command, (admin, cnpj))    \n",
    "            conn.commit()\n",
    "            \n",
    "    except Exception as e:\n",
    "        print(f\"Erro: {str(e)}\")\n",
    "        conn.rollback()"
   ]
  },
  {
   "cell_type": "code",
   "execution_count": 24,
   "id": "ed5aac06",
   "metadata": {},
   "outputs": [],
   "source": [
    "create_dim_Admin(conn, cursor, cad)"
   ]
  },
  {
   "cell_type": "markdown",
   "id": "b5c0963d",
   "metadata": {},
   "source": [
    "#### Dimension Manager"
   ]
  },
  {
   "cell_type": "markdown",
   "id": "f3fa1c18",
   "metadata": {},
   "source": [
    "![dim_Manager](../images/dim_Manager.png)"
   ]
  },
  {
   "cell_type": "code",
   "execution_count": 25,
   "id": "641f5a4c",
   "metadata": {},
   "outputs": [],
   "source": [
    "def create_dim_Manager(conn, cursor, cad):\n",
    "    try:\n",
    "        for CpfCnpjManager in cad['CPF_CNPJ_GESTOR'].unique():\n",
    "            temp = cad[cad['CPF_CNPJ_GESTOR'] == CpfCnpjManager][['GESTOR', 'PF_PJ_GESTOR']]\n",
    "            if len(temp) == 0:\n",
    "                continue\n",
    "\n",
    "            manager = temp.iloc[0, 0]\n",
    "            PfPjGestor = temp.iloc[0, 1]\n",
    "            command = (\"INSERT INTO dim_Manager (CPF_CNPJManager, NameJManager, PF_PJ_Manager) VALUES (%s, %s, %s)\")\n",
    "            cursor.execute(command, (CpfCnpjManager, manager, PfPjGestor))    \n",
    "            conn.commit()\n",
    "        \n",
    "    except Exception as e:\n",
    "        print(f\"Erro: {str(e)}\")\n",
    "        conn.rollback()"
   ]
  },
  {
   "cell_type": "code",
   "execution_count": null,
   "id": "ee6d9237",
   "metadata": {},
   "outputs": [],
   "source": [
    "create_dim_Manager(conn, cursor, cad)"
   ]
  },
  {
   "cell_type": "markdown",
   "id": "cfbfccb8",
   "metadata": {},
   "source": [
    "#### Dimension Investiment Fund"
   ]
  },
  {
   "cell_type": "markdown",
   "id": "3169e589",
   "metadata": {},
   "source": [
    "![dim_Investment_Fund](../images/dim_Investment_Fund.png)"
   ]
  },
  {
   "cell_type": "code",
   "execution_count": null,
   "id": "32601a73",
   "metadata": {},
   "outputs": [],
   "source": [
    "def tratar_nan(valor):\n",
    "    return None if valor == 'nan' or (isinstance(valor, (float, int)) and math.isnan(valor)) else valor"
   ]
  },
  {
   "cell_type": "code",
   "execution_count": null,
   "id": "381cd762",
   "metadata": {
    "scrolled": true
   },
   "outputs": [],
   "source": [
    "def create_dim_Investment_Fund(conn, cursor, cad):\n",
    "    for cnpj in cad['CNPJ_FUNDO'].unique():\n",
    "        try:\n",
    "\n",
    "            temp = cad[cad['CNPJ_FUNDO'] == cnpj][['DENOM_SOCIAL', 'CNPJ_FUNDO', 'CLASSE_ANBIMA', 'DT_REG', 'DT_CONST',\n",
    "                                                   'CD_CVM', 'SIT', 'TAXA_PERFM', 'TAXA_ADM', 'DIRETOR', 'FUNDO_COTAS',\n",
    "                                                   'FUNDO_EXCLUSIVO', 'CLASSE', 'CONDOM', 'RENTAB_FUNDO', 'TP_FUNDO',\n",
    "                                                   'PUBLICO_ALVO', 'VL_PATRIM_LIQ']]\n",
    "                \n",
    "            for index, row in temp.iterrows():\n",
    "\n",
    "                DenomSocial = tratar_nan(row[0])\n",
    "                CNPJ = tratar_nan(row[1])\n",
    "                ClassAMBIMA = tratar_nan(row[2])\n",
    "                DataReg = tratar_nan(row[3])\n",
    "                DataConst = tratar_nan(row[4])\n",
    "                CodCVM = tratar_nan(row[5])\n",
    "                Situation = tratar_nan(row[6])\n",
    "                TaxPerfomance = tratar_nan(row[7])\n",
    "                TaxAdm = tratar_nan(row[8])\n",
    "                Director = tratar_nan(row[9])\n",
    "                FundCotas = tratar_nan(row[10])\n",
    "                FundExclusive = tratar_nan(row[11])\n",
    "                Classe = tratar_nan(row[12])\n",
    "                Condom = tratar_nan(row[13])\n",
    "                RentabFund = tratar_nan(row[14])\n",
    "                TypeFund = tratar_nan(row[15])\n",
    "                TargetAudience = tratar_nan(row[16])\n",
    "                NetWorth = tratar_nan(row[17])\n",
    "\n",
    "                if FundCotas is not None:\n",
    "                    FundCotas = 1 if FundCotas == 'S' else 0\n",
    "\n",
    "                if FundExclusive is not None:\n",
    "                    FundExclusive = 1 if FundExclusive == 'S' else 0\n",
    "\n",
    "                command = (\"\"\"\n",
    "                    INSERT INTO dim_Investment_Fund (\n",
    "                        DenomSocial, \n",
    "                        CNPJ, \n",
    "                        ClassAMBIMA, \n",
    "                        DataReg, \n",
    "                        DataConst, \n",
    "                        CodCVM, \n",
    "                        Situation, \n",
    "                        TaxPerfomance, \n",
    "                        TaxAdm, \n",
    "                        Director, \n",
    "                        FundCotas, \n",
    "                        FundExclusive, \n",
    "                        Classe, \n",
    "                        Condom, \n",
    "                        RentabFund, \n",
    "                        TypeFund, \n",
    "                        TargetAudience,\n",
    "                        NetWorth)\n",
    "                    VALUES (%s, %s, %s, %s, %s, %s, %s, %s, %s, %s, %s, %s, %s, %s, %s, %s, %s, %s)\n",
    "                \"\"\"\n",
    "                )\n",
    "\n",
    "                cursor.execute(command, (\n",
    "                    DenomSocial, \n",
    "                    CNPJ, \n",
    "                    ClassAMBIMA, \n",
    "                    DataReg, \n",
    "                    DataConst, \n",
    "                    CodCVM, \n",
    "                    Situation, \n",
    "                    TaxPerfomance, \n",
    "                    TaxAdm, \n",
    "                    Director, \n",
    "                    FundCotas, \n",
    "                    FundExclusive, \n",
    "                    Classe, \n",
    "                    Condom, \n",
    "                    RentabFund, \n",
    "                    TypeFund, \n",
    "                    TargetAudience,\n",
    "                    NetWorth\n",
    "                ))\n",
    "\n",
    "                conn.commit()\n",
    "            \n",
    "        except Exception as e:\n",
    "            print(f\"Erro: {str(e)}\")\n",
    "            conn.rollback()"
   ]
  },
  {
   "cell_type": "code",
   "execution_count": null,
   "id": "c79c7c78",
   "metadata": {},
   "outputs": [],
   "source": [
    "create_dim_Investment_Fund(conn, cursor, cad)"
   ]
  },
  {
   "cell_type": "markdown",
   "id": "43f56c2c",
   "metadata": {},
   "source": [
    "#### Dimension Time"
   ]
  },
  {
   "cell_type": "markdown",
   "id": "5300b003",
   "metadata": {},
   "source": [
    "![dim_Time](../images/dim_Time.png)"
   ]
  },
  {
   "cell_type": "code",
   "execution_count": null,
   "id": "62a35d80",
   "metadata": {},
   "outputs": [],
   "source": [
    "def create_dim_Time(conn, cursor, datetime, day, week, month, quarter, year):\n",
    "\n",
    "    try:\n",
    "        command = (\"INSERT INTO dim_Time ( \\\n",
    "                    datetime, day, week, month, quarter, year) \\\n",
    "                    VALUES (%s, %s, %s, %s, %s, %s)\")\n",
    "\n",
    "        cursor.execute(command, (datetime, day, week, month, quarter, year))\n",
    "\n",
    "        conn.commit()\n",
    "\n",
    "    except Exception as e:\n",
    "        print(f\"Erro: {str(e)}\")\n",
    "        conn.rollback()"
   ]
  },
  {
   "cell_type": "code",
   "execution_count": null,
   "id": "a679052e",
   "metadata": {},
   "outputs": [],
   "source": [
    "auxTime = set()"
   ]
  },
  {
   "cell_type": "code",
   "execution_count": null,
   "id": "59f496f4",
   "metadata": {},
   "outputs": [],
   "source": [
    "for _, row in inf_diario.iterrows():\n",
    "    auxTime.add(row['DT_COMPTC'])"
   ]
  },
  {
   "cell_type": "code",
   "execution_count": null,
   "id": "83f85230",
   "metadata": {},
   "outputs": [],
   "source": [
    "auxTimeList = sorted(list(auxTime))"
   ]
  },
  {
   "cell_type": "code",
   "execution_count": null,
   "id": "bd1a9e17",
   "metadata": {},
   "outputs": [],
   "source": [
    "for date_string in auxTimeList:\n",
    " \n",
    "    dt = datetime.strptime(date_string, '%Y-%m-%d')\n",
    "\n",
    "    day = dt.day\n",
    "    week = dt.strftime('%U')\n",
    "    quarter = math.ceil(dt.month / 4)\n",
    "    year = dt.year\n",
    "    month = dt.month   \n",
    "\n",
    "    create_dim_Time(\n",
    "        conn,\n",
    "        cursor,\n",
    "        date_string,\n",
    "        day,\n",
    "        week,\n",
    "        month,\n",
    "        quarter,\n",
    "        year\n",
    "    )"
   ]
  },
  {
   "cell_type": "code",
   "execution_count": null,
   "id": "58291a9c",
   "metadata": {},
   "outputs": [],
   "source": [
    "del auxTime\n",
    "del auxTimeList"
   ]
  },
  {
   "cell_type": "markdown",
   "id": "b2165775",
   "metadata": {},
   "source": [
    "#### Fact Value"
   ]
  },
  {
   "cell_type": "markdown",
   "id": "735d2d39",
   "metadata": {},
   "source": [
    "![fact_Value](../images/fact_Value.png)"
   ]
  },
  {
   "cell_type": "code",
   "execution_count": null,
   "id": "42879130",
   "metadata": {},
   "outputs": [],
   "source": [
    "surrogate_dim_Time = pd.read_sql(f\"SELECT id_dim_time, datetime FROM dim_Time\", conn) \\\n",
    "    .set_index('datetime')"
   ]
  },
  {
   "cell_type": "code",
   "execution_count": null,
   "id": "0ff7c5a1",
   "metadata": {},
   "outputs": [],
   "source": [
    "surrogate_dim_Investment_Fund = pd.read_sql(f\"SELECT id_dim_investment_fund, CNPJ, Situation FROM dim_Investment_Fund\", conn) \\\n",
    "    .set_index('CNPJ')"
   ]
  },
  {
   "cell_type": "code",
   "execution_count": null,
   "id": "34b2ddfd",
   "metadata": {},
   "outputs": [],
   "source": [
    "surrogate_dim_Manager = pd.read_sql(f\"SELECT id_dim_manager, CPF_CNPJManager FROM dim_Manager\", conn) \\\n",
    "    .set_index('CPF_CNPJManager')"
   ]
  },
  {
   "cell_type": "code",
   "execution_count": null,
   "id": "6504e17b",
   "metadata": {},
   "outputs": [],
   "source": [
    "surrogate_dim_Admin = pd.read_sql(f\"SELECT id_dim_admin, CNPJAdmin FROM dim_Admin\", conn) \\\n",
    "    .set_index('CNPJAdmin')"
   ]
  },
  {
   "cell_type": "code",
   "execution_count": null,
   "id": "1879fd9d",
   "metadata": {},
   "outputs": [],
   "source": [
    "surrogate_dim_Custodian = pd.read_sql(f\"SELECT id_dim_custodian, CNPJCustodian FROM dim_Custodian\", conn) \\\n",
    "    .set_index('CNPJCustodian')"
   ]
  },
  {
   "cell_type": "code",
   "execution_count": null,
   "id": "e3f8c268",
   "metadata": {},
   "outputs": [],
   "source": [
    "surrogate_dim_Auditor = pd.read_sql(f\"SELECT id_dim_auditor, CNPJAuditor FROM dim_Auditor\", conn) \\\n",
    "    .set_index('CNPJAuditor')"
   ]
  },
  {
   "cell_type": "code",
   "execution_count": null,
   "id": "8f44aadf",
   "metadata": {},
   "outputs": [],
   "source": [
    "surrogate_dim_Controller = pd.read_sql(f\"SELECT id_dim_controller, CNPJController FROM dim_Controller\", conn) \\\n",
    "    .set_index('CNPJController')"
   ]
  },
  {
   "cell_type": "code",
   "execution_count": null,
   "id": "176e7860",
   "metadata": {},
   "outputs": [],
   "source": [
    "def create_fact_Value(conn, cursor, cad):\n",
    "    i = 0\n",
    "\n",
    "    for index, row in inf_diario.iterrows():\n",
    "    \n",
    "        try:\n",
    "\n",
    "            cnpj = row['CNPJ_FUNDO']\n",
    "            \n",
    "            if not cnpj:\n",
    "                continue\n",
    "            \n",
    "            info_cad = cad[cad['CNPJ_FUNDO'] == cnpj][['CPF_CNPJ_GESTOR', 'CNPJ_ADMIN', 'CNPJ_CUSTODIANTE',\n",
    "                                                       'CNPJ_AUDITOR', 'CNPJ_CONTROLADOR']]\n",
    "\n",
    "            CPF_CNPJ_Manager = info_cad.iloc[0, 0]\n",
    "            CNPJ_Admin = info_cad.iloc[0, 1]\n",
    "            CNPJ_Custodian = info_cad.iloc[0, 2] \n",
    "            CNPJ_Auditor = info_cad.iloc[0, 3]\n",
    "            CNPJ_Controller = info_cad.iloc[0, 4]\n",
    "            date = datetime.strptime(row['DT_COMPTC'], '%Y-%m-%d').date()\n",
    "            \n",
    "            if not date:\n",
    "                continue\n",
    "\n",
    "            CPF_CNPJ_Manager = tratar_nan(CPF_CNPJ_Manager)\n",
    "            CNPJ_Admin = tratar_nan(CNPJ_Admin)\n",
    "            CNPJ_Custodian = tratar_nan(CNPJ_Custodian)\n",
    "            CNPJ_Auditor = tratar_nan(CNPJ_Auditor)\n",
    "            CNPJ_Controller = tratar_nan(CNPJ_Controller)\n",
    "\n",
    "            id_dim_time = surrogate_dim_Time.loc[date, 'id_dim_time']\n",
    "\n",
    "            try:\n",
    "                id_dim_investment_fund = surrogate_dim_Investment_Fund[(surrogate_dim_Investment_Fund.index == cnpj) & \\\n",
    "                                  (surrogate_dim_Investment_Fund['Situation'] == 'EM FUNCIONAMENTO NORMAL')].iloc[0, 0]\n",
    "            except:\n",
    "                continue\n",
    "\n",
    "            if CPF_CNPJ_Manager:\n",
    "                id_dim_manager = int(surrogate_dim_Manager.loc[CPF_CNPJ_Manager, 'id_dim_manager'])\n",
    "            else:\n",
    "                id_dim_manager = None\n",
    "\n",
    "            if CNPJ_Admin:\n",
    "                id_dim_admin = int(surrogate_dim_Admin.loc[CNPJ_Admin, 'id_dim_admin'])\n",
    "            else:\n",
    "                id_dim_admin = None\n",
    "\n",
    "            if CNPJ_Custodian:\n",
    "                id_dim_custodian = int(surrogate_dim_Custodian.loc[CNPJ_Custodian, 'id_dim_custodian'])\n",
    "            else:\n",
    "                id_dim_custodian = None\n",
    "\n",
    "            if CNPJ_Auditor:\n",
    "                id_dim_auditor = int(surrogate_dim_Auditor.loc[CNPJ_Auditor, 'id_dim_auditor'])\n",
    "            else:\n",
    "                id_dim_auditor = None\n",
    "\n",
    "            if CNPJ_Controller:\n",
    "                id_dim_controller = int(surrogate_dim_Controller.loc[CNPJ_Controller, 'id_dim_controller'])\n",
    "            else:\n",
    "                id_dim_controller = None\n",
    "\n",
    "            NetWorth = tratar_nan(row[5])\n",
    "            Total = tratar_nan(row[3])\n",
    "            Quota = tratar_nan(row[4])\n",
    "            NQuotaHolders = tratar_nan(row[8])\n",
    "            CaptDay = tratar_nan(row[6])\n",
    "            RescueDay = tratar_nan(row[7])\n",
    "\n",
    "            command = (\"\"\"\n",
    "                INSERT INTO fact_Value (\n",
    "                    id_dim_time,\n",
    "                    id_dim_investment_fund,\n",
    "                    id_dim_manager,\n",
    "                    id_dim_admin,\n",
    "                    id_dim_custodian,\n",
    "                    id_dim_auditor,\n",
    "                    id_dim_controller,\n",
    "                    NetWorth,\n",
    "                    Total,\n",
    "                    Quota,\n",
    "                    NQuotaHolders,\n",
    "                    CaptDay,\n",
    "                    RescueDay)\n",
    "                VALUES (%s, %s, %s, %s, %s, %s, %s, %s, %s, %s, %s, %s, %s)\n",
    "            \"\"\")\n",
    "\n",
    "\n",
    "            values = (\n",
    "                int(id_dim_time),\n",
    "                int(id_dim_investment_fund),\n",
    "                id_dim_manager,\n",
    "                id_dim_admin,\n",
    "                id_dim_custodian,\n",
    "                id_dim_auditor,\n",
    "                id_dim_controller,\n",
    "                NetWorth,\n",
    "                Total,\n",
    "                Quota,\n",
    "                NQuotaHolders,\n",
    "                CaptDay,\n",
    "                RescueDay\n",
    "            ) \n",
    "\n",
    "            cursor.execute(command, values)\n",
    "            conn.commit()\n",
    "\n",
    "            print(i)\n",
    "            i += 1\n",
    "\n",
    "        except Exception as e:\n",
    "            print(f\"\"\"\n",
    "                    cnpj: {cnpj}\n",
    "                    id_dim_time: {id_dim_time}\n",
    "                    id_dim_investment_fund: {id_dim_investment_fund}\n",
    "                    id_dim_manager: {id_dim_manager}\n",
    "                    id_dim_admin: {id_dim_admin}\n",
    "                    id_dim_custodian: {id_dim_custodian}\n",
    "                    id_dim_auditor: {id_dim_auditor}\n",
    "                    id_dim_controller: {id_dim_controller}\n",
    "                    NetWorth: {NetWorth}\n",
    "                    Total: {Total}\n",
    "                    Quota: {Quota}\n",
    "                    NQuotaHolders: {NQuotaHolders}\n",
    "                    CaptDay: {CaptDay}\n",
    "                    RescueDay: {RescueDay}\n",
    "                \"\"\"\n",
    "            )\n",
    "\n",
    "            conn.rollback()\n",
    "            raise e\n",
    "            break"
   ]
  },
  {
   "cell_type": "code",
   "execution_count": null,
   "id": "0164f78d",
   "metadata": {},
   "outputs": [],
   "source": [
    "create_fact_Value(conn, cursor, cad)"
   ]
  },
  {
   "cell_type": "markdown",
   "id": "692f9916",
   "metadata": {},
   "source": [
    "## Data analytics"
   ]
  },
  {
   "cell_type": "code",
   "execution_count": null,
   "id": "6c0b3f79",
   "metadata": {},
   "outputs": [],
   "source": [
    "cursor.execute('USE [FI_DW]')"
   ]
  }
 ],
 "metadata": {
  "kernelspec": {
   "display_name": "Python 3 (ipykernel)",
   "language": "python",
   "name": "python3"
  },
  "language_info": {
   "codemirror_mode": {
    "name": "ipython",
    "version": 3
   },
   "file_extension": ".py",
   "mimetype": "text/x-python",
   "name": "python",
   "nbconvert_exporter": "python",
   "pygments_lexer": "ipython3",
   "version": "3.11.4"
  }
 },
 "nbformat": 4,
 "nbformat_minor": 5
}
