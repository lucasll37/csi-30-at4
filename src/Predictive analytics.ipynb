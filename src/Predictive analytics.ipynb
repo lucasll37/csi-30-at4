{
 "cells": [
  {
   "cell_type": "markdown",
   "id": "a48c42ea",
   "metadata": {},
   "source": [
    "# [CSI-30] Atividade 4  - Predictive analytics"
   ]
  },
  {
   "cell_type": "markdown",
   "id": "1511694a",
   "metadata": {},
   "source": [
    "##### Importação de Bibliotecas"
   ]
  },
  {
   "cell_type": "code",
   "execution_count": 1,
   "id": "08552492",
   "metadata": {},
   "outputs": [],
   "source": [
    "import pandas as pd\n",
    "import numpy as np\n",
    "import seaborn as sns\n",
    "import matplotlib.pyplot as plt\n",
    "import pymssql\n",
    "import csv\n",
    "import time\n",
    "import math\n",
    "import warnings\n",
    "\n",
    "from sklearn.linear_model import LinearRegression\n",
    "from datetime import datetime, timedelta"
   ]
  },
  {
   "cell_type": "code",
   "execution_count": 2,
   "id": "129661e0",
   "metadata": {},
   "outputs": [],
   "source": [
    "warnings.filterwarnings('ignore')"
   ]
  },
  {
   "cell_type": "code",
   "execution_count": 3,
   "id": "e09e91c5",
   "metadata": {},
   "outputs": [],
   "source": [
    "# pd.set_option('display.max_rows', None)"
   ]
  },
  {
   "cell_type": "markdown",
   "id": "ae3f53d1",
   "metadata": {},
   "source": [
    "## Criação dos SGBD (MSSQL Server 2017)"
   ]
  },
  {
   "cell_type": "code",
   "execution_count": 4,
   "id": "45a6d8bc",
   "metadata": {},
   "outputs": [
    {
     "name": "stdout",
     "output_type": "stream",
     "text": [
      "/bin/bash: /home/lucas/anaconda3/lib/libtinfo.so.6: no version information available (required by /bin/bash)\n",
      "\u001b[1A\u001b[1B\u001b[0G\u001b[?25l[+] Running 1/0\n",
      " \u001b[32m✔\u001b[0m Network csi-30-at4_default        \u001b[32mCreat...\u001b[0m                              \u001b[34m0.0s \u001b[0m\n",
      " ⠋ Container csi-30-at4-sqlserver-1  Creating                              \u001b[34m0.0s \u001b[0m\n",
      "\u001b[?25h\u001b[1A\u001b[1A\u001b[1A\u001b[0G\u001b[?25l\u001b[34m[+] Running 2/2\u001b[0m\n",
      " \u001b[32m✔\u001b[0m Network csi-30-at4_default        \u001b[32mCreat...\u001b[0m                              \u001b[34m0.0s \u001b[0m\n",
      " \u001b[32m✔\u001b[0m Container csi-30-at4-sqlserver-1  \u001b[32mCreated\u001b[0m                               \u001b[34m0.1s \u001b[0m\n",
      "\u001b[?25h\u001b[1A\u001b[1A\u001b[1A\u001b[0G\u001b[?25l\u001b[34m[+] Running 2/2\u001b[0m\n",
      " \u001b[32m✔\u001b[0m Network csi-30-at4_default        \u001b[32mCreat...\u001b[0m                              \u001b[34m0.0s \u001b[0m\n",
      " \u001b[32m✔\u001b[0m Container csi-30-at4-sqlserver-1  \u001b[32mCreated\u001b[0m                               \u001b[34m0.1s \u001b[0m\n",
      "\u001b[?25h\u001b[1A\u001b[1A\u001b[1A\u001b[0G\u001b[?25l\u001b[34m[+] Running 2/2\u001b[0m\n",
      " \u001b[32m✔\u001b[0m Network csi-30-at4_default        \u001b[32mCreat...\u001b[0m                              \u001b[34m0.0s \u001b[0m\n",
      " \u001b[32m✔\u001b[0m Container csi-30-at4-sqlserver-1  \u001b[32mCreated\u001b[0m                               \u001b[34m0.1s \u001b[0m\n",
      "\u001b[?25h\u001b[1A\u001b[1A\u001b[1A\u001b[0G\u001b[?25l\u001b[34m[+] Running 2/2\u001b[0m\n",
      " \u001b[32m✔\u001b[0m Network csi-30-at4_default        \u001b[32mCreat...\u001b[0m                              \u001b[34m0.0s \u001b[0m\n",
      " \u001b[32m✔\u001b[0m Container csi-30-at4-sqlserver-1  \u001b[32mCreated\u001b[0m                               \u001b[34m0.1s \u001b[0m\n",
      "\u001b[?25h\u001b[1A\u001b[1A\u001b[1A\u001b[0G\u001b[?25l\u001b[34m[+] Running 2/2\u001b[0m\n",
      " \u001b[32m✔\u001b[0m Network csi-30-at4_default        \u001b[32mCreat...\u001b[0m                              \u001b[34m0.0s \u001b[0m\n",
      " \u001b[32m✔\u001b[0m Container csi-30-at4-sqlserver-1  \u001b[32mStarted\u001b[0m                               \u001b[34m0.1s \u001b[0m\n",
      "\u001b[?25h"
     ]
    }
   ],
   "source": [
    "!docker-compose -f ../docker-compose.yml up -d"
   ]
  },
  {
   "cell_type": "markdown",
   "id": "c3017fdc",
   "metadata": {},
   "source": [
    "## Conexão com o MSSQL Server 2017\n",
    "\n",
    "#### Aguarde o container inicializar!"
   ]
  },
  {
   "cell_type": "code",
   "execution_count": 5,
   "id": "63f8941d",
   "metadata": {},
   "outputs": [],
   "source": [
    "time.sleep(10)"
   ]
  },
  {
   "cell_type": "code",
   "execution_count": 6,
   "id": "30f8a406",
   "metadata": {},
   "outputs": [],
   "source": [
    "conn = pymssql.connect(host='localhost', user='sa', password='Pent@gon1979', database='master')"
   ]
  },
  {
   "cell_type": "code",
   "execution_count": 7,
   "id": "42ef108b",
   "metadata": {},
   "outputs": [],
   "source": [
    "conn.autocommit(True)"
   ]
  },
  {
   "cell_type": "code",
   "execution_count": 8,
   "id": "c4bebbc4",
   "metadata": {},
   "outputs": [],
   "source": [
    "cursor = conn.cursor()"
   ]
  },
  {
   "cell_type": "markdown",
   "id": "557c0f12",
   "metadata": {},
   "source": [
    "### Modelo Dimensional"
   ]
  },
  {
   "cell_type": "markdown",
   "id": "1db0eece",
   "metadata": {},
   "source": [
    "![Diagrama](../images/schema_dim.png)"
   ]
  },
  {
   "cell_type": "markdown",
   "id": "3e2e4a2d",
   "metadata": {},
   "source": [
    "### Cria da tabela e relacionamentos do Banco de dados Dimensional"
   ]
  },
  {
   "cell_type": "code",
   "execution_count": 9,
   "id": "d85a8d81",
   "metadata": {},
   "outputs": [],
   "source": [
    "cursor.execute(\"CREATE DATABASE FI_DW;\")"
   ]
  },
  {
   "cell_type": "code",
   "execution_count": 10,
   "id": "568f41a7",
   "metadata": {},
   "outputs": [],
   "source": [
    "with open('../sql/ddl_dimensional.sql', 'r') as file:\n",
    "    ddl_create_dimensional = file.read()"
   ]
  },
  {
   "cell_type": "code",
   "execution_count": 11,
   "id": "9c68d02b",
   "metadata": {},
   "outputs": [],
   "source": [
    "commands = [command.strip() for command in ddl_create_dimensional.split('GO') if command.strip()]"
   ]
  },
  {
   "cell_type": "code",
   "execution_count": 12,
   "id": "29a71392",
   "metadata": {},
   "outputs": [],
   "source": [
    "try:\n",
    "    for command in commands:\n",
    "        cursor.execute(command)\n",
    "    \n",
    "except Exception as e:\n",
    "    print(f\"Erro: {str(e)}\")"
   ]
  },
  {
   "cell_type": "markdown",
   "id": "7e37eec0",
   "metadata": {},
   "source": [
    "## Extraction"
   ]
  },
  {
   "cell_type": "markdown",
   "id": "2d638db2",
   "metadata": {},
   "source": [
    "##### Informações Diárias"
   ]
  },
  {
   "cell_type": "code",
   "execution_count": 13,
   "id": "931450c5",
   "metadata": {},
   "outputs": [],
   "source": [
    "path_files_data = [\n",
    "                                                                                    202111, 202112,\n",
    "    202201, 202202, 202203, 202204, 202205, 202206, 202207, 202208, 202209, 202210, 202211, 202212,\n",
    "    202301, 202302, 202303, 202304, 202305, 202306, 202307, 202308, 202309, 202310  \n",
    "]"
   ]
  },
  {
   "cell_type": "code",
   "execution_count": 14,
   "id": "97364073",
   "metadata": {},
   "outputs": [],
   "source": [
    "inf_diario = pd.DataFrame()"
   ]
  },
  {
   "cell_type": "code",
   "execution_count": 15,
   "id": "16ecfd5a",
   "metadata": {},
   "outputs": [],
   "source": [
    "for data in path_files_data:\n",
    "    new_df = f\"../data/inf_diario/inf_diario_fi_{data}.csv\"\n",
    "    inf_diario = pd.concat([inf_diario, pd.read_csv(new_df, sep=';')], axis=0)"
   ]
  },
  {
   "cell_type": "markdown",
   "id": "2b2ee2af",
   "metadata": {},
   "source": [
    "##### Informações cadastrais"
   ]
  },
  {
   "cell_type": "code",
   "execution_count": 16,
   "id": "0176bcfd",
   "metadata": {},
   "outputs": [],
   "source": [
    "cad = pd.read_csv('../data/cad/cad_fi.csv', sep=';', encoding='iso-8859-1', low_memory=False)"
   ]
  },
  {
   "cell_type": "markdown",
   "id": "90466476",
   "metadata": {},
   "source": [
    "## Transformation and Load"
   ]
  },
  {
   "cell_type": "markdown",
   "id": "45e0881d",
   "metadata": {},
   "source": [
    "#### Dimension Controller"
   ]
  },
  {
   "cell_type": "markdown",
   "id": "3c1ecc35",
   "metadata": {},
   "source": [
    "![fact_Sales](../images/dim_Controller.png)"
   ]
  },
  {
   "cell_type": "code",
   "execution_count": 17,
   "id": "7c2f404d",
   "metadata": {},
   "outputs": [],
   "source": [
    "def create_dim_Controller(conn, cursor, cad):\n",
    "    try:\n",
    "        for controller in cad['CONTROLADOR'].unique():\n",
    "            temp = cad[cad['CONTROLADOR'] == controller]\n",
    "            if len(temp) == 0:\n",
    "                continue\n",
    "\n",
    "            CNPJController = temp.iloc[0, 1]\n",
    "            command = (\"INSERT INTO dim_Controller (NameController, CNPJController) VALUES (%s, %s)\")\n",
    "            cursor.execute(command, (controller, CNPJController))    \n",
    "            conn.commit()\n",
    "\n",
    "\n",
    "    except Exception as e:\n",
    "        print(f\"Erro: {str(e)}\")\n",
    "        conn.rollback()"
   ]
  },
  {
   "cell_type": "code",
   "execution_count": 18,
   "id": "6707671b",
   "metadata": {},
   "outputs": [],
   "source": [
    "create_dim_Controller(conn, cursor, cad)"
   ]
  },
  {
   "cell_type": "markdown",
   "id": "2bcab4a7",
   "metadata": {},
   "source": [
    "#### Dimension Auditor"
   ]
  },
  {
   "cell_type": "markdown",
   "id": "eb4f9818",
   "metadata": {},
   "source": [
    "![fact_Sales](../images/dim_Auditor.png)"
   ]
  },
  {
   "cell_type": "code",
   "execution_count": 19,
   "id": "fd2c783d",
   "metadata": {},
   "outputs": [],
   "source": [
    "def create_dim_Auditor(conn, cursor, cad):\n",
    "    try:\n",
    "        for auditor in cad['AUDITOR'].unique():\n",
    "            temp = cad[cad['AUDITOR'] == auditor]\n",
    "            if len(temp) == 0:\n",
    "                continue\n",
    "\n",
    "            CNPJAuditor = temp.iloc[0, 1]\n",
    "            command = (\"INSERT INTO dim_Auditor (NameAuditor, CNPJAuditor) VALUES (%s, %s)\")\n",
    "            cursor.execute(command, (auditor, CNPJAuditor))    \n",
    "            conn.commit()\n",
    "        \n",
    "    except Exception as e:\n",
    "        print(f\"Erro: {str(e)}\")\n",
    "        conn.rollback()"
   ]
  },
  {
   "cell_type": "code",
   "execution_count": 20,
   "id": "015425bc",
   "metadata": {},
   "outputs": [],
   "source": [
    "create_dim_Auditor(conn, cursor, cad)"
   ]
  },
  {
   "cell_type": "markdown",
   "id": "1e778228",
   "metadata": {},
   "source": [
    "#### Dimension Custodian"
   ]
  },
  {
   "cell_type": "markdown",
   "id": "22ebeff5",
   "metadata": {},
   "source": [
    "![fact_Sales](../images/dim_Custodian.png)"
   ]
  },
  {
   "cell_type": "code",
   "execution_count": 21,
   "id": "94505dd4",
   "metadata": {},
   "outputs": [],
   "source": [
    "def create_dim_Custodian(conn, cursor, cad):\n",
    "    try:\n",
    "        for custodian in cad['CUSTODIANTE'].unique():\n",
    "            temp = cad[cad['CUSTODIANTE'] == custodian]\n",
    "            if len(temp) == 0:\n",
    "                continue\n",
    "\n",
    "            CNPJCustodian = temp.iloc[0, 1]\n",
    "            command = (\"INSERT INTO dim_Custodian (NameCustodian, CNPJCustodian) VALUES (%s, %s)\")\n",
    "            # print(custodian, CNPJCustodian)\n",
    "            cursor.execute(command, (custodian, CNPJCustodian))    \n",
    "            conn.commit()\n",
    "    \n",
    "    except Exception as e:\n",
    "        print(f\"Erro: {str(e)}\")\n",
    "        conn.rollback()"
   ]
  },
  {
   "cell_type": "code",
   "execution_count": 22,
   "id": "85d4e08f",
   "metadata": {},
   "outputs": [],
   "source": [
    "create_dim_Custodian(conn, cursor, cad)"
   ]
  },
  {
   "cell_type": "markdown",
   "id": "9ac61894",
   "metadata": {},
   "source": [
    "#### Dimension Admin"
   ]
  },
  {
   "cell_type": "markdown",
   "id": "cda910ab",
   "metadata": {},
   "source": [
    "![fact_Sales](../images/dim_Admin.png)"
   ]
  },
  {
   "cell_type": "code",
   "execution_count": 23,
   "id": "f79e7219",
   "metadata": {},
   "outputs": [],
   "source": [
    "def create_dim_Admin(conn, cursor, cad):\n",
    "    try:\n",
    "        for admin in cad['ADMIN'].unique():\n",
    "            temp = cad[cad['ADMIN'] == admin]\n",
    "            if len(temp) == 0:\n",
    "                continue\n",
    "\n",
    "            CNPJAdmin = temp.iloc[0, 1]\n",
    "            command = (\"INSERT INTO dim_Admin (NameAdmin, CNPJAdmin) VALUES (%s, %s)\")\n",
    "            # print(admin, CNPJAdmin)\n",
    "            cursor.execute(command, (admin, CNPJAdmin))    \n",
    "            conn.commit()\n",
    "            \n",
    "    except Exception as e:\n",
    "        print(f\"Erro: {str(e)}\")\n",
    "        conn.rollback()"
   ]
  },
  {
   "cell_type": "code",
   "execution_count": 24,
   "id": "ed5aac06",
   "metadata": {},
   "outputs": [],
   "source": [
    "create_dim_Admin(conn, cursor, cad)"
   ]
  },
  {
   "cell_type": "markdown",
   "id": "b5c0963d",
   "metadata": {},
   "source": [
    "#### Dimension Manager"
   ]
  },
  {
   "cell_type": "markdown",
   "id": "f3fa1c18",
   "metadata": {},
   "source": [
    "![fact_Sales](../images/dim_Manager.png)"
   ]
  },
  {
   "cell_type": "code",
   "execution_count": 25,
   "id": "641f5a4c",
   "metadata": {},
   "outputs": [],
   "source": [
    "def create_dim_Manager(conn, cursor, cad):\n",
    "    try:\n",
    "        for manager in cad['GESTOR'].unique():\n",
    "            temp = cad[cad['GESTOR'] == manager][['PF_PJ_GESTOR', 'CPF_CNPJ_GESTOR']]\n",
    "            if len(temp) == 0:\n",
    "                continue\n",
    "\n",
    "            PfPjGestor = temp.iloc[0, 0]\n",
    "            CpfCnpjManager = temp.iloc[0, 1]\n",
    "\n",
    "            command = (\"INSERT INTO dim_Manager (CPF_CNPJManager, NameJManager, PF_PJ_Manager) VALUES (%s, %s, %s)\")\n",
    "            cursor.execute(command, (CpfCnpjManager, manager, PfPjGestor))    \n",
    "            conn.commit()\n",
    "        \n",
    "    except Exception as e:\n",
    "        print(f\"Erro: {str(e)}\")\n",
    "        conn.rollback()"
   ]
  },
  {
   "cell_type": "code",
   "execution_count": 26,
   "id": "ee6d9237",
   "metadata": {},
   "outputs": [],
   "source": [
    "create_dim_Manager(conn, cursor, cad)"
   ]
  },
  {
   "cell_type": "markdown",
   "id": "cfbfccb8",
   "metadata": {},
   "source": [
    "#### Dimension Investiment Fund"
   ]
  },
  {
   "cell_type": "markdown",
   "id": "3169e589",
   "metadata": {},
   "source": [
    "![fact_Sales](../images/dim_Investment_Fund.png)"
   ]
  },
  {
   "cell_type": "code",
   "execution_count": 31,
   "id": "32601a73",
   "metadata": {},
   "outputs": [],
   "source": [
    "def tratar_nan(valor):\n",
    "    return None if valor == 'nan' or (isinstance(valor, (float, int)) and math.isnan(valor)) else valor"
   ]
  },
  {
   "cell_type": "code",
   "execution_count": 34,
   "id": "381cd762",
   "metadata": {
    "scrolled": true
   },
   "outputs": [],
   "source": [
    "def create_dim_Investment_Fund(conn, cursor, cad):\n",
    "    for cnpj in cad['CNPJ_FUNDO'].unique():\n",
    "        try:\n",
    "\n",
    "            temp = cad[cad['CNPJ_FUNDO'] == cnpj][['DENOM_SOCIAL', 'CNPJ_FUNDO', 'CLASSE_ANBIMA', 'DT_REG', 'DT_CONST',\n",
    "                                                   'CD_CVM', 'SIT', 'TAXA_PERFM', 'TAXA_ADM', 'DIRETOR', 'FUNDO_COTAS',\n",
    "                                                   'FUNDO_EXCLUSIVO', 'CLASSE', 'CONDOM', 'RENTAB_FUNDO', 'TP_FUNDO',\n",
    "                                                   'PUBLICO_ALVO']]\n",
    "                \n",
    "            for index, row in temp.iterrows():\n",
    "\n",
    "                DenomSocial = tratar_nan(row[0])\n",
    "                CNPJ = tratar_nan(row[1])\n",
    "                ClassAMBIMA = tratar_nan(row[2])\n",
    "                DataReg = tratar_nan(row[3])\n",
    "                DataConst = tratar_nan(row[4])\n",
    "                CodCVM = tratar_nan(row[5])\n",
    "                Situation = tratar_nan(row[6])\n",
    "                TaxPerfomance = tratar_nan(row[7])\n",
    "                TaxAdm = tratar_nan(row[8])\n",
    "                Director = tratar_nan(row[9])\n",
    "                FundCotas = tratar_nan(row[10])\n",
    "                FundExclusive = tratar_nan(row[11])\n",
    "                Classe = tratar_nan(row[12])\n",
    "                Condom = tratar_nan(row[13])\n",
    "                RentabFund = tratar_nan(row[14])\n",
    "                TypeFund = tratar_nan(row[15])\n",
    "                TargetAudience = tratar_nan(row[16])\n",
    "\n",
    "                if FundCotas is not None:\n",
    "                    FundCotas = 1 if FundCotas == 'S' else 0\n",
    "\n",
    "                if FundExclusive is not None:\n",
    "                    FundExclusive = 1 if FundExclusive == 'S' else 0\n",
    "\n",
    "                command = (\"\"\"\n",
    "                    INSERT INTO dim_Investment_Fund (\n",
    "                        DenomSocial, \n",
    "                        CNPJ, \n",
    "                        ClassAMBIMA, \n",
    "                        DataReg, \n",
    "                        DataConst, \n",
    "                        CodCVM, \n",
    "                        Situation, \n",
    "                        TaxPerfomance, \n",
    "                        TaxAdm, \n",
    "                        Director, \n",
    "                        FundCotas, \n",
    "                        FundExclusive, \n",
    "                        Classe, \n",
    "                        Condom, \n",
    "                        RentabFund, \n",
    "                        TypeFund, \n",
    "                        TargetAudience)\n",
    "                    VALUES (%s, %s, %s, %s, %s, %s, %s, %s, %s, %s, %s, %s, %s, %s, %s, %s, %s)\n",
    "                \"\"\"\n",
    "                )\n",
    "\n",
    "                cursor.execute(command, (\n",
    "                    DenomSocial, \n",
    "                    CNPJ, \n",
    "                    ClassAMBIMA, \n",
    "                    DataReg, \n",
    "                    DataConst, \n",
    "                    CodCVM, \n",
    "                    Situation, \n",
    "                    TaxPerfomance, \n",
    "                    TaxAdm, \n",
    "                    Director, \n",
    "                    FundCotas, \n",
    "                    FundExclusive, \n",
    "                    Classe, \n",
    "                    Condom, \n",
    "                    RentabFund, \n",
    "                    TypeFund, \n",
    "                    TargetAudience\n",
    "                ))\n",
    "\n",
    "                conn.commit()\n",
    "            \n",
    "        except Exception as e:\n",
    "            print(f\"Erro: {str(e)}\")\n",
    "            conn.rollback()"
   ]
  },
  {
   "cell_type": "code",
   "execution_count": 35,
   "id": "c79c7c78",
   "metadata": {},
   "outputs": [],
   "source": [
    "create_dim_Investment_Fund(conn, cursor, cad)"
   ]
  },
  {
   "cell_type": "markdown",
   "id": "43f56c2c",
   "metadata": {},
   "source": [
    "#### Dimension Time"
   ]
  },
  {
   "cell_type": "markdown",
   "id": "5300b003",
   "metadata": {},
   "source": [
    "![fact_Sales](../images/dim_Time.png)"
   ]
  },
  {
   "cell_type": "code",
   "execution_count": 36,
   "id": "62a35d80",
   "metadata": {},
   "outputs": [],
   "source": [
    "def create_dim_Time(conn, cursor, datetime, day, week, month, quarter, year):\n",
    "\n",
    "    try:\n",
    "        command = (\"INSERT INTO dim_Time ( \\\n",
    "                    datetime, day, week, month, quarter, year) \\\n",
    "                    VALUES (%s, %s, %s, %s, %s, %s)\")\n",
    "\n",
    "        cursor.execute(command, (datetime, day, week, month, quarter, year))\n",
    "\n",
    "        conn.commit()\n",
    "\n",
    "    except Exception as e:\n",
    "        print(f\"Erro: {str(e)}\")\n",
    "        conn.rollback()"
   ]
  },
  {
   "cell_type": "code",
   "execution_count": 37,
   "id": "a679052e",
   "metadata": {},
   "outputs": [],
   "source": [
    "auxTime = set()"
   ]
  },
  {
   "cell_type": "code",
   "execution_count": 38,
   "id": "59f496f4",
   "metadata": {},
   "outputs": [],
   "source": [
    "for _, row in inf_diario.iterrows():\n",
    "    auxTime.add(row['DT_COMPTC'])"
   ]
  },
  {
   "cell_type": "code",
   "execution_count": 39,
   "id": "83f85230",
   "metadata": {},
   "outputs": [],
   "source": [
    "auxTimeList = sorted(list(auxTime))"
   ]
  },
  {
   "cell_type": "code",
   "execution_count": 40,
   "id": "bd1a9e17",
   "metadata": {},
   "outputs": [],
   "source": [
    "for date_string in auxTimeList:\n",
    " \n",
    "    dt = datetime.strptime(date_string, '%Y-%m-%d')\n",
    "\n",
    "    day = dt.day\n",
    "    week = dt.strftime('%U')\n",
    "    quarter = math.ceil(dt.month / 4)\n",
    "    year = dt.year\n",
    "    month = dt.month   \n",
    "\n",
    "    create_dim_Time(\n",
    "        conn,\n",
    "        cursor,\n",
    "        date_string,\n",
    "        day,\n",
    "        week,\n",
    "        month,\n",
    "        quarter,\n",
    "        year\n",
    "    )"
   ]
  },
  {
   "cell_type": "code",
   "execution_count": 41,
   "id": "58291a9c",
   "metadata": {},
   "outputs": [],
   "source": [
    "del auxTime\n",
    "del auxTimeList"
   ]
  },
  {
   "cell_type": "markdown",
   "id": "b2165775",
   "metadata": {},
   "source": [
    "#### Fact Value"
   ]
  },
  {
   "cell_type": "markdown",
   "id": "735d2d39",
   "metadata": {},
   "source": [
    "![fact_Sales](../images/fact_Value.png)"
   ]
  },
  {
   "cell_type": "code",
   "execution_count": null,
   "id": "f1c15104",
   "metadata": {},
   "outputs": [],
   "source": [
    "def getSurrogateIDbyOriginalID(cursor, table, nameID, nameSurrogateID, key):\n",
    "    cursor.execute(f'SELECT {nameSurrogateID} FROM {table} WHERE {nameID} = {key}')\n",
    "    \n",
    "    return cursor.fetchall()[0][0]"
   ]
  },
  {
   "cell_type": "code",
   "execution_count": null,
   "id": "d457d304",
   "metadata": {},
   "outputs": [],
   "source": [
    "def create_fact_Sales_register(conn, cursor, id_dim_employee, id_dim_customer, id_dim_territory,\n",
    "                               id_dim_salesOrderHeader, id_dim_time, id_dim_product, SalesOrderDetailID,\n",
    "                               ProductQty, UnitPrice, LineTotal):\n",
    "\n",
    "    try:\n",
    "        command = \"\"\"\n",
    "            INSERT INTO fact_SalesItem (\n",
    "                id_dim_employee, id_dim_customer, id_dim_territory, id_dim_salesOrderHeader,\n",
    "                id_dim_time, id_dim_product, SalesOrderDetailID, ProductQty, UnitPrice, LineTotal)\n",
    "            VALUES (%s, %s, %s, %s, %s, %s, %s, %s, %s, %s)\n",
    "        \"\"\"\n",
    "\n",
    "        values = [id_dim_employee, id_dim_customer, id_dim_territory, id_dim_salesOrderHeader, id_dim_time, id_dim_product, SalesOrderDetailID, ProductQty, UnitPrice, LineTotal]\n",
    "        values = [None if v == 'None' or v == 'nan' or (isinstance(v, float) and math.isnan(v)) else v for v in values]\n",
    "\n",
    "        cursor.execute(command, tuple(values))\n",
    "\n",
    "        conn.commit()\n",
    "\n",
    "    except Exception as e:\n",
    "        print(f\"Erro: {str(e)}\")\n",
    "        conn.rollback()\n"
   ]
  },
  {
   "cell_type": "markdown",
   "id": "692f9916",
   "metadata": {},
   "source": [
    "## Data analytics"
   ]
  },
  {
   "cell_type": "code",
   "execution_count": null,
   "id": "54cfb93a",
   "metadata": {},
   "outputs": [],
   "source": [
    "query1 = '''\n",
    "    SELECT \n",
    "        e.DepartmentName AS Departamento,                \n",
    "        t.year AS Ano,                   \n",
    "        SUM(f.LineTotal) AS 'Total Vendas' \n",
    "    FROM \n",
    "        fact_SalesItem f                 \n",
    "    JOIN \n",
    "        dim_Employee e ON f.id_dim_employee = e.id_dim_employee  \n",
    "    JOIN \n",
    "        dim_Time t ON f.id_dim_time = t.id_dim_time              \n",
    "    GROUP BY \n",
    "        e.DepartmentName, t.year        \n",
    "    ORDER BY \n",
    "        e.DepartmentName, t.year;\n",
    "'''\n",
    "\n",
    "\n",
    "df1 = pd.read_sql(query1, conn).set_index(['Departamento', 'Ano'])\n",
    "df1['Total Vendas'] = df1['Total Vendas'].apply(lambda x: f\"${x:,.2f}\")\n",
    "\n",
    "\n",
    "df1"
   ]
  },
  {
   "cell_type": "code",
   "execution_count": null,
   "id": "f08f3300",
   "metadata": {},
   "outputs": [],
   "source": []
  },
  {
   "cell_type": "code",
   "execution_count": null,
   "id": "2046d952",
   "metadata": {},
   "outputs": [],
   "source": []
  },
  {
   "cell_type": "code",
   "execution_count": null,
   "id": "81e14a55",
   "metadata": {},
   "outputs": [],
   "source": []
  },
  {
   "cell_type": "code",
   "execution_count": null,
   "id": "abe0ac64",
   "metadata": {},
   "outputs": [],
   "source": []
  },
  {
   "cell_type": "code",
   "execution_count": null,
   "id": "6760e0db",
   "metadata": {},
   "outputs": [],
   "source": []
  },
  {
   "cell_type": "code",
   "execution_count": null,
   "id": "2d851885",
   "metadata": {},
   "outputs": [],
   "source": []
  },
  {
   "cell_type": "code",
   "execution_count": null,
   "id": "832e383f",
   "metadata": {},
   "outputs": [],
   "source": [
    "inf_diario.dropna(subset=['DT_COMPTC'], axis=0, inplace=True)"
   ]
  },
  {
   "cell_type": "code",
   "execution_count": null,
   "id": "69891f57",
   "metadata": {},
   "outputs": [],
   "source": []
  },
  {
   "cell_type": "code",
   "execution_count": null,
   "id": "2a33f435",
   "metadata": {},
   "outputs": [],
   "source": [
    "cad = cad[cad['TP_FUNDO'] == 'FI']"
   ]
  },
  {
   "cell_type": "code",
   "execution_count": null,
   "id": "20319445",
   "metadata": {},
   "outputs": [],
   "source": [
    "situation = cad[['DENOM_SOCIAL', 'CNPJ_FUNDO', 'SIT', 'VL_PATRIM_LIQ']][cad['SIT'] == 'EM FUNCIONAMENTO NORMAL']\n",
    "situation = situation[situation['VL_PATRIM_LIQ'] >= 100000000]\n",
    "situation.drop('VL_PATRIM_LIQ', axis=1, inplace=True)"
   ]
  },
  {
   "cell_type": "code",
   "execution_count": null,
   "id": "8ba0f50d",
   "metadata": {},
   "outputs": [],
   "source": [
    "situation.sample(3)"
   ]
  },
  {
   "cell_type": "code",
   "execution_count": null,
   "id": "e8bb19f7",
   "metadata": {},
   "outputs": [],
   "source": [
    "data = pd.merge(situation, inf_diario, how='inner', on='CNPJ_FUNDO').set_index(['DT_COMPTC'])"
   ]
  },
  {
   "cell_type": "code",
   "execution_count": null,
   "id": "088b52be",
   "metadata": {},
   "outputs": [],
   "source": [
    "data.drop(['CNPJ_FUNDO', 'SIT'], axis=1, inplace=True)"
   ]
  },
  {
   "cell_type": "code",
   "execution_count": null,
   "id": "c1c86668",
   "metadata": {},
   "outputs": [],
   "source": [
    "data = data.pivot_table(values='VL_PATRIM_LIQ', index='DT_COMPTC', columns='DENOM_SOCIAL')\n",
    "data.index = pd.to_datetime(data.index)"
   ]
  },
  {
   "cell_type": "code",
   "execution_count": null,
   "id": "a6427828",
   "metadata": {},
   "outputs": [],
   "source": [
    "data.head(5)"
   ]
  },
  {
   "cell_type": "code",
   "execution_count": null,
   "id": "6e868b72",
   "metadata": {},
   "outputs": [],
   "source": [
    "data = data.loc[:, ~data.iloc[0, :].isnull()]"
   ]
  },
  {
   "cell_type": "code",
   "execution_count": null,
   "id": "e09a8abe",
   "metadata": {},
   "outputs": [],
   "source": [
    "data = data.loc[:, ~data.iloc[-1, :].isnull()]"
   ]
  },
  {
   "cell_type": "code",
   "execution_count": null,
   "id": "4b33f968",
   "metadata": {},
   "outputs": [],
   "source": [
    "plt.figure(figsize=(10, 6))\n",
    "\n",
    "for column in np.random.choice(data.columns, size=5, replace=False):\n",
    "    sns.lineplot(data=data, x=data.index, y=data[column]/1000000000, label = column)\n",
    "\n",
    "plt.xlabel('Data')\n",
    "plt.ylabel('Bilhão de Reais')\n",
    "plt.xticks(rotation=90)\n",
    "\n",
    "plt.legend(title='Legenda', loc='upper center', bbox_to_anchor=(0.5, -0.3), fancybox=True, shadow=True, ncol=1)\n",
    "\n",
    "# Ajustando o layout para evitar sobreposições\n",
    "plt.tight_layout()\n",
    "\n",
    "\n",
    "# plt.legend()\n",
    "plt.show()"
   ]
  },
  {
   "cell_type": "code",
   "execution_count": null,
   "id": "8c77c35d",
   "metadata": {},
   "outputs": [],
   "source": [
    "CoefficientOfVariation = pd.DataFrame(columns=['beta_mean', 'beta_std', 'Coefficient_of_variation'])"
   ]
  },
  {
   "cell_type": "code",
   "execution_count": null,
   "id": "32399b7e",
   "metadata": {},
   "outputs": [],
   "source": [
    "predictions = dict()\n",
    "coef = dict()\n",
    "indexes = dict()"
   ]
  },
  {
   "cell_type": "code",
   "execution_count": null,
   "id": "0e9d09cc",
   "metadata": {},
   "outputs": [],
   "source": [
    "for column, serie in data.items():\n",
    "    beta = serie / serie.shift(1) - 1    \n",
    "    new_data = pd.DataFrame({'beta_mean': [beta.mean()], 'beta_std': [beta.std()], 'Coefficient_of_variation': [beta.mean() / beta.std()]}, \n",
    "                        index=[column]) \n",
    "\n",
    "    CoefficientOfVariation = pd.concat([CoefficientOfVariation, new_data])\n",
    "    \n",
    "    X = []\n",
    "    y = []\n",
    "\n",
    "    for index, b in enumerate(beta):\n",
    "        if(not (np.isnan(b) or np.isinf(b))):\n",
    "            X.append(index)\n",
    "            y.append(b)\n",
    "\n",
    "    X = np.array(X).reshape(-1, 1)\n",
    "    y = np.array(y).reshape(-1, 1)\n",
    "\n",
    "    model = LinearRegression()\n",
    "    model.fit(X, y)\n",
    "\n",
    "    predictions[column] = model.predict(np.array([i for i in range(735)]).reshape(-1, 1))\n",
    "    coef[column] = model.coef_"
   ]
  },
  {
   "cell_type": "code",
   "execution_count": null,
   "id": "b7a88565",
   "metadata": {},
   "outputs": [],
   "source": [
    "CoefficientOfVariation = CoefficientOfVariation.loc[~CoefficientOfVariation['Coefficient_of_variation'].isna(), :]"
   ]
  },
  {
   "cell_type": "code",
   "execution_count": null,
   "id": "dd950ec3",
   "metadata": {},
   "outputs": [],
   "source": [
    "CoefficientOfVariation.sample(3)"
   ]
  },
  {
   "cell_type": "code",
   "execution_count": null,
   "id": "c0ee17d4",
   "metadata": {},
   "outputs": [],
   "source": [
    "cdi_daily = 0.00050788 "
   ]
  },
  {
   "cell_type": "code",
   "execution_count": null,
   "id": "7ce994c5",
   "metadata": {},
   "outputs": [],
   "source": [
    "filter = (CoefficientOfVariation['Coefficient_of_variation'] >= 0.4) & \\\n",
    "         (CoefficientOfVariation['Coefficient_of_variation'] <= 2) & \\\n",
    "         (CoefficientOfVariation['beta_mean'] >= cdi_daily)"
   ]
  },
  {
   "cell_type": "code",
   "execution_count": null,
   "id": "8134fd02",
   "metadata": {},
   "outputs": [],
   "source": [
    "noBest = CoefficientOfVariation[~filter].sort_values(by='beta_mean', ascending=False)"
   ]
  },
  {
   "cell_type": "code",
   "execution_count": null,
   "id": "dc61a64b",
   "metadata": {},
   "outputs": [],
   "source": [
    "best = CoefficientOfVariation[filter].sort_values(by='beta_mean', ascending=False)"
   ]
  },
  {
   "cell_type": "code",
   "execution_count": null,
   "id": "0ab195ae",
   "metadata": {},
   "outputs": [],
   "source": [
    "plt.figure(figsize=(10, 6))\n",
    "\n",
    "ax = sns.scatterplot(data=best, x=\"beta_std\", y=\"beta_mean\", marker='+')\n",
    "ax = sns.scatterplot(data=noBest, x=\"beta_std\", y=\"beta_mean\", marker='+')\n",
    "\n",
    "ax.set_ylim(0, 0.0175)\n",
    "ax.set_xlim(0, 0.06)\n",
    "\n",
    "ax.axhline(y=cdi_daily, linestyle='--', linewidth=2, color='r')\n",
    "ax.text(x=0.05, y=0.0009, s='CDI', color='r', va='center', ha='right')\n",
    "\n",
    "ax.text(x=0.006, y=0.009, s='2', color='gray', va='center', ha='right')\n",
    "ax.text(x=0.027, y=0.009, s='0.4', color='gray', va='center', ha='right')\n",
    "ax.text(x=0.02, y=0.012, s='Melhores FI', color='g', va='center', ha='right')\n",
    "\n",
    "plt.plot([0, 0.00875], [0, 0.0175], linestyle='--', linewidth=1, color='gray')\n",
    "plt.plot([0, 0.04375], [0, 0.0175], linestyle='--', linewidth=1, color='gray')\n",
    "\n",
    "plt.xlabel('Risco (Desvio padrão do retorno diário/Beta)')\n",
    "plt.ylabel('Retorno (Média do retorno diário/Beta)')\n",
    "\n",
    "\n",
    "plt.title('Coeficiente de Variação (Retorno/Risco)')\n",
    "plt.tight_layout()\n",
    "\n",
    "plt.show()"
   ]
  },
  {
   "cell_type": "code",
   "execution_count": null,
   "id": "5a7792b8",
   "metadata": {},
   "outputs": [],
   "source": [
    "best.sample(3)"
   ]
  },
  {
   "cell_type": "code",
   "execution_count": null,
   "id": "055555ef",
   "metadata": {
    "scrolled": false
   },
   "outputs": [],
   "source": [
    "plt.figure(figsize=(10, 10))\n",
    "\n",
    "for index, row in best.head(1).iterrows():\n",
    "    datas_str = data.index.copy()\n",
    "    datas_lista = datas_str.to_list()\n",
    "    ultima_data = datas_lista[-1]\n",
    "\n",
    "    novas_datas = [ultima_data + timedelta(days=i) for i in range(1, 246)]\n",
    "\n",
    "    datas_lista.extend(novas_datas)\n",
    "    novo_index = pd.Index(datas_lista)\n",
    "    \n",
    "    sns.lineplot(data=data, x=data.index, y=index, label = index)\n",
    "#     sns.lineplot(x=novo_index, y=predictions[index].reshape(-1), label = index)\n",
    "    \n",
    "\n",
    "plt.xlabel('Data')\n",
    "plt.ylabel('Centena de Milhão de Reais')\n",
    "plt.xticks(rotation=90)\n",
    "\n",
    "plt.legend(title='Legenda', loc='upper center', bbox_to_anchor=(0.5, -0.2), fancybox=True, shadow=True, ncol=1)\n",
    "\n",
    "\n",
    "# plt.legend()\n",
    "plt.show()\n",
    "\n",
    "x = np.array([i for i in range(735)])\n",
    "y = predictions[index].reshape(-1)\n",
    "\n",
    "\n",
    "sns.lineplot(x=x, y=y, label = index)\n",
    "plt.show()"
   ]
  },
  {
   "cell_type": "code",
   "execution_count": null,
   "id": "9d530661",
   "metadata": {},
   "outputs": [],
   "source": [
    "index = 'VALORA PREV XP SEGUROS FIC DE FUNDOS DE INVESTIMENTO RENDA FIXA CRÉDITO PRIVADO'"
   ]
  },
  {
   "cell_type": "code",
   "execution_count": null,
   "id": "c834b146",
   "metadata": {},
   "outputs": [],
   "source": [
    "datas_str = data.index.copy()\n",
    "datas_lista = datas_str.to_list()\n",
    "ultima_data = datas_lista[-1]\n",
    "\n",
    "novas_datas = [ultima_data + timedelta(days=i) for i in range(1, 246)]\n",
    "\n",
    "datas_lista.extend(novas_datas)\n",
    "novo_index = pd.Index(datas_lista)\n",
    "\n",
    "sns.lineplot(x=novo_index, y=predictions[index].reshape(-1), label = index)"
   ]
  },
  {
   "cell_type": "code",
   "execution_count": null,
   "id": "cb4c8d4e",
   "metadata": {},
   "outputs": [],
   "source": [
    "predictions[index].reshape(-1)"
   ]
  },
  {
   "cell_type": "code",
   "execution_count": null,
   "id": "52f405ac",
   "metadata": {},
   "outputs": [],
   "source": [
    "predictions[index]"
   ]
  },
  {
   "cell_type": "code",
   "execution_count": null,
   "id": "01758117",
   "metadata": {},
   "outputs": [],
   "source": []
  },
  {
   "cell_type": "code",
   "execution_count": null,
   "id": "74f721fc",
   "metadata": {},
   "outputs": [],
   "source": []
  },
  {
   "cell_type": "code",
   "execution_count": null,
   "id": "59892410",
   "metadata": {},
   "outputs": [],
   "source": [
    "# MSSQL Server\n",
    "conn.close()"
   ]
  }
 ],
 "metadata": {
  "kernelspec": {
   "display_name": "Python 3 (ipykernel)",
   "language": "python",
   "name": "python3"
  },
  "language_info": {
   "codemirror_mode": {
    "name": "ipython",
    "version": 3
   },
   "file_extension": ".py",
   "mimetype": "text/x-python",
   "name": "python",
   "nbconvert_exporter": "python",
   "pygments_lexer": "ipython3",
   "version": "3.11.4"
  }
 },
 "nbformat": 4,
 "nbformat_minor": 5
}
